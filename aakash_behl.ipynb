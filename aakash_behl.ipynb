{
 "cells": [
  {
   "cell_type": "code",
   "execution_count": 135,
   "id": "3e6f347f",
   "metadata": {},
   "outputs": [],
   "source": [
    "#Load the libraryss\n",
    "import pandas as pd \n",
    "import numpy as np \n",
    "import seaborn as sns \n",
    "import matplotlib.pyplot as plt \n"
   ]
  },
  {
   "cell_type": "code",
   "execution_count": 136,
   "id": "41926b57",
   "metadata": {},
   "outputs": [
    {
     "name": "stderr",
     "output_type": "stream",
     "text": [
      "C:\\Users\\AAKASH\\anaconda3\\envs\\datascience\\lib\\site-packages\\IPython\\core\\interactiveshell.py:3457: DtypeWarning: Columns (47) have mixed types.Specify dtype option on import or set low_memory=False.\n",
      "  exec(code_obj, self.user_global_ns, self.user_ns)\n"
     ]
    }
   ],
   "source": [
    "loan_df = pd.read_csv('loan.csv')"
   ]
  },
  {
   "cell_type": "code",
   "execution_count": 137,
   "id": "95894d5a",
   "metadata": {},
   "outputs": [
    {
     "data": {
      "text/html": [
       "<div>\n",
       "<style scoped>\n",
       "    .dataframe tbody tr th:only-of-type {\n",
       "        vertical-align: middle;\n",
       "    }\n",
       "\n",
       "    .dataframe tbody tr th {\n",
       "        vertical-align: top;\n",
       "    }\n",
       "\n",
       "    .dataframe thead th {\n",
       "        text-align: right;\n",
       "    }\n",
       "</style>\n",
       "<table border=\"1\" class=\"dataframe\">\n",
       "  <thead>\n",
       "    <tr style=\"text-align: right;\">\n",
       "      <th></th>\n",
       "      <th>id</th>\n",
       "      <th>member_id</th>\n",
       "      <th>loan_amnt</th>\n",
       "      <th>funded_amnt</th>\n",
       "      <th>funded_amnt_inv</th>\n",
       "      <th>term</th>\n",
       "      <th>int_rate</th>\n",
       "      <th>installment</th>\n",
       "      <th>grade</th>\n",
       "      <th>sub_grade</th>\n",
       "      <th>...</th>\n",
       "      <th>num_tl_90g_dpd_24m</th>\n",
       "      <th>num_tl_op_past_12m</th>\n",
       "      <th>pct_tl_nvr_dlq</th>\n",
       "      <th>percent_bc_gt_75</th>\n",
       "      <th>pub_rec_bankruptcies</th>\n",
       "      <th>tax_liens</th>\n",
       "      <th>tot_hi_cred_lim</th>\n",
       "      <th>total_bal_ex_mort</th>\n",
       "      <th>total_bc_limit</th>\n",
       "      <th>total_il_high_credit_limit</th>\n",
       "    </tr>\n",
       "  </thead>\n",
       "  <tbody>\n",
       "    <tr>\n",
       "      <th>0</th>\n",
       "      <td>1077501</td>\n",
       "      <td>1296599</td>\n",
       "      <td>5000</td>\n",
       "      <td>5000</td>\n",
       "      <td>4975.0</td>\n",
       "      <td>36 months</td>\n",
       "      <td>10.65%</td>\n",
       "      <td>162.87</td>\n",
       "      <td>B</td>\n",
       "      <td>B2</td>\n",
       "      <td>...</td>\n",
       "      <td>NaN</td>\n",
       "      <td>NaN</td>\n",
       "      <td>NaN</td>\n",
       "      <td>NaN</td>\n",
       "      <td>0.0</td>\n",
       "      <td>0.0</td>\n",
       "      <td>NaN</td>\n",
       "      <td>NaN</td>\n",
       "      <td>NaN</td>\n",
       "      <td>NaN</td>\n",
       "    </tr>\n",
       "    <tr>\n",
       "      <th>1</th>\n",
       "      <td>1077430</td>\n",
       "      <td>1314167</td>\n",
       "      <td>2500</td>\n",
       "      <td>2500</td>\n",
       "      <td>2500.0</td>\n",
       "      <td>60 months</td>\n",
       "      <td>15.27%</td>\n",
       "      <td>59.83</td>\n",
       "      <td>C</td>\n",
       "      <td>C4</td>\n",
       "      <td>...</td>\n",
       "      <td>NaN</td>\n",
       "      <td>NaN</td>\n",
       "      <td>NaN</td>\n",
       "      <td>NaN</td>\n",
       "      <td>0.0</td>\n",
       "      <td>0.0</td>\n",
       "      <td>NaN</td>\n",
       "      <td>NaN</td>\n",
       "      <td>NaN</td>\n",
       "      <td>NaN</td>\n",
       "    </tr>\n",
       "    <tr>\n",
       "      <th>2</th>\n",
       "      <td>1077175</td>\n",
       "      <td>1313524</td>\n",
       "      <td>2400</td>\n",
       "      <td>2400</td>\n",
       "      <td>2400.0</td>\n",
       "      <td>36 months</td>\n",
       "      <td>15.96%</td>\n",
       "      <td>84.33</td>\n",
       "      <td>C</td>\n",
       "      <td>C5</td>\n",
       "      <td>...</td>\n",
       "      <td>NaN</td>\n",
       "      <td>NaN</td>\n",
       "      <td>NaN</td>\n",
       "      <td>NaN</td>\n",
       "      <td>0.0</td>\n",
       "      <td>0.0</td>\n",
       "      <td>NaN</td>\n",
       "      <td>NaN</td>\n",
       "      <td>NaN</td>\n",
       "      <td>NaN</td>\n",
       "    </tr>\n",
       "    <tr>\n",
       "      <th>3</th>\n",
       "      <td>1076863</td>\n",
       "      <td>1277178</td>\n",
       "      <td>10000</td>\n",
       "      <td>10000</td>\n",
       "      <td>10000.0</td>\n",
       "      <td>36 months</td>\n",
       "      <td>13.49%</td>\n",
       "      <td>339.31</td>\n",
       "      <td>C</td>\n",
       "      <td>C1</td>\n",
       "      <td>...</td>\n",
       "      <td>NaN</td>\n",
       "      <td>NaN</td>\n",
       "      <td>NaN</td>\n",
       "      <td>NaN</td>\n",
       "      <td>0.0</td>\n",
       "      <td>0.0</td>\n",
       "      <td>NaN</td>\n",
       "      <td>NaN</td>\n",
       "      <td>NaN</td>\n",
       "      <td>NaN</td>\n",
       "    </tr>\n",
       "    <tr>\n",
       "      <th>4</th>\n",
       "      <td>1075358</td>\n",
       "      <td>1311748</td>\n",
       "      <td>3000</td>\n",
       "      <td>3000</td>\n",
       "      <td>3000.0</td>\n",
       "      <td>60 months</td>\n",
       "      <td>12.69%</td>\n",
       "      <td>67.79</td>\n",
       "      <td>B</td>\n",
       "      <td>B5</td>\n",
       "      <td>...</td>\n",
       "      <td>NaN</td>\n",
       "      <td>NaN</td>\n",
       "      <td>NaN</td>\n",
       "      <td>NaN</td>\n",
       "      <td>0.0</td>\n",
       "      <td>0.0</td>\n",
       "      <td>NaN</td>\n",
       "      <td>NaN</td>\n",
       "      <td>NaN</td>\n",
       "      <td>NaN</td>\n",
       "    </tr>\n",
       "  </tbody>\n",
       "</table>\n",
       "<p>5 rows × 111 columns</p>\n",
       "</div>"
      ],
      "text/plain": [
       "        id  member_id  loan_amnt  funded_amnt  funded_amnt_inv        term  \\\n",
       "0  1077501    1296599       5000         5000           4975.0   36 months   \n",
       "1  1077430    1314167       2500         2500           2500.0   60 months   \n",
       "2  1077175    1313524       2400         2400           2400.0   36 months   \n",
       "3  1076863    1277178      10000        10000          10000.0   36 months   \n",
       "4  1075358    1311748       3000         3000           3000.0   60 months   \n",
       "\n",
       "  int_rate  installment grade sub_grade  ... num_tl_90g_dpd_24m  \\\n",
       "0   10.65%       162.87     B        B2  ...                NaN   \n",
       "1   15.27%        59.83     C        C4  ...                NaN   \n",
       "2   15.96%        84.33     C        C5  ...                NaN   \n",
       "3   13.49%       339.31     C        C1  ...                NaN   \n",
       "4   12.69%        67.79     B        B5  ...                NaN   \n",
       "\n",
       "  num_tl_op_past_12m pct_tl_nvr_dlq  percent_bc_gt_75 pub_rec_bankruptcies  \\\n",
       "0                NaN            NaN               NaN                  0.0   \n",
       "1                NaN            NaN               NaN                  0.0   \n",
       "2                NaN            NaN               NaN                  0.0   \n",
       "3                NaN            NaN               NaN                  0.0   \n",
       "4                NaN            NaN               NaN                  0.0   \n",
       "\n",
       "  tax_liens tot_hi_cred_lim total_bal_ex_mort total_bc_limit  \\\n",
       "0       0.0             NaN               NaN            NaN   \n",
       "1       0.0             NaN               NaN            NaN   \n",
       "2       0.0             NaN               NaN            NaN   \n",
       "3       0.0             NaN               NaN            NaN   \n",
       "4       0.0             NaN               NaN            NaN   \n",
       "\n",
       "  total_il_high_credit_limit  \n",
       "0                        NaN  \n",
       "1                        NaN  \n",
       "2                        NaN  \n",
       "3                        NaN  \n",
       "4                        NaN  \n",
       "\n",
       "[5 rows x 111 columns]"
      ]
     },
     "execution_count": 137,
     "metadata": {},
     "output_type": "execute_result"
    }
   ],
   "source": [
    "loan_df.head()"
   ]
  },
  {
   "cell_type": "code",
   "execution_count": 138,
   "id": "fda509dd",
   "metadata": {},
   "outputs": [],
   "source": [
    "loan_columns =  loan_df.columns\n"
   ]
  },
  {
   "cell_type": "code",
   "execution_count": 139,
   "id": "bc1abf98",
   "metadata": {},
   "outputs": [
    {
     "data": {
      "text/plain": [
       "(39717, 111)"
      ]
     },
     "execution_count": 139,
     "metadata": {},
     "output_type": "execute_result"
    }
   ],
   "source": [
    "loan_df.shape\n"
   ]
  },
  {
   "cell_type": "markdown",
   "id": "d3f0a2c2",
   "metadata": {},
   "source": [
    "## As we can see that there are many column in the dataset which are having lot of missing values, so let's drop the columns with more than 60% missing values"
   ]
  },
  {
   "cell_type": "code",
   "execution_count": 140,
   "id": "c570b335",
   "metadata": {},
   "outputs": [
    {
     "data": {
      "text/html": [
       "<div>\n",
       "<style scoped>\n",
       "    .dataframe tbody tr th:only-of-type {\n",
       "        vertical-align: middle;\n",
       "    }\n",
       "\n",
       "    .dataframe tbody tr th {\n",
       "        vertical-align: top;\n",
       "    }\n",
       "\n",
       "    .dataframe thead th {\n",
       "        text-align: right;\n",
       "    }\n",
       "</style>\n",
       "<table border=\"1\" class=\"dataframe\">\n",
       "  <thead>\n",
       "    <tr style=\"text-align: right;\">\n",
       "      <th></th>\n",
       "      <th>Total</th>\n",
       "      <th>Percent</th>\n",
       "    </tr>\n",
       "  </thead>\n",
       "  <tbody>\n",
       "    <tr>\n",
       "      <th>verification_status_joint</th>\n",
       "      <td>39717</td>\n",
       "      <td>1.000000</td>\n",
       "    </tr>\n",
       "    <tr>\n",
       "      <th>annual_inc_joint</th>\n",
       "      <td>39717</td>\n",
       "      <td>1.000000</td>\n",
       "    </tr>\n",
       "    <tr>\n",
       "      <th>mo_sin_old_rev_tl_op</th>\n",
       "      <td>39717</td>\n",
       "      <td>1.000000</td>\n",
       "    </tr>\n",
       "    <tr>\n",
       "      <th>mo_sin_old_il_acct</th>\n",
       "      <td>39717</td>\n",
       "      <td>1.000000</td>\n",
       "    </tr>\n",
       "    <tr>\n",
       "      <th>bc_util</th>\n",
       "      <td>39717</td>\n",
       "      <td>1.000000</td>\n",
       "    </tr>\n",
       "    <tr>\n",
       "      <th>bc_open_to_buy</th>\n",
       "      <td>39717</td>\n",
       "      <td>1.000000</td>\n",
       "    </tr>\n",
       "    <tr>\n",
       "      <th>avg_cur_bal</th>\n",
       "      <td>39717</td>\n",
       "      <td>1.000000</td>\n",
       "    </tr>\n",
       "    <tr>\n",
       "      <th>acc_open_past_24mths</th>\n",
       "      <td>39717</td>\n",
       "      <td>1.000000</td>\n",
       "    </tr>\n",
       "    <tr>\n",
       "      <th>inq_last_12m</th>\n",
       "      <td>39717</td>\n",
       "      <td>1.000000</td>\n",
       "    </tr>\n",
       "    <tr>\n",
       "      <th>total_cu_tl</th>\n",
       "      <td>39717</td>\n",
       "      <td>1.000000</td>\n",
       "    </tr>\n",
       "    <tr>\n",
       "      <th>inq_fi</th>\n",
       "      <td>39717</td>\n",
       "      <td>1.000000</td>\n",
       "    </tr>\n",
       "    <tr>\n",
       "      <th>total_rev_hi_lim</th>\n",
       "      <td>39717</td>\n",
       "      <td>1.000000</td>\n",
       "    </tr>\n",
       "    <tr>\n",
       "      <th>all_util</th>\n",
       "      <td>39717</td>\n",
       "      <td>1.000000</td>\n",
       "    </tr>\n",
       "    <tr>\n",
       "      <th>max_bal_bc</th>\n",
       "      <td>39717</td>\n",
       "      <td>1.000000</td>\n",
       "    </tr>\n",
       "    <tr>\n",
       "      <th>open_rv_24m</th>\n",
       "      <td>39717</td>\n",
       "      <td>1.000000</td>\n",
       "    </tr>\n",
       "    <tr>\n",
       "      <th>open_rv_12m</th>\n",
       "      <td>39717</td>\n",
       "      <td>1.000000</td>\n",
       "    </tr>\n",
       "    <tr>\n",
       "      <th>il_util</th>\n",
       "      <td>39717</td>\n",
       "      <td>1.000000</td>\n",
       "    </tr>\n",
       "    <tr>\n",
       "      <th>total_bal_il</th>\n",
       "      <td>39717</td>\n",
       "      <td>1.000000</td>\n",
       "    </tr>\n",
       "    <tr>\n",
       "      <th>mths_since_rcnt_il</th>\n",
       "      <td>39717</td>\n",
       "      <td>1.000000</td>\n",
       "    </tr>\n",
       "    <tr>\n",
       "      <th>open_il_24m</th>\n",
       "      <td>39717</td>\n",
       "      <td>1.000000</td>\n",
       "    </tr>\n",
       "    <tr>\n",
       "      <th>open_il_12m</th>\n",
       "      <td>39717</td>\n",
       "      <td>1.000000</td>\n",
       "    </tr>\n",
       "    <tr>\n",
       "      <th>open_il_6m</th>\n",
       "      <td>39717</td>\n",
       "      <td>1.000000</td>\n",
       "    </tr>\n",
       "    <tr>\n",
       "      <th>open_acc_6m</th>\n",
       "      <td>39717</td>\n",
       "      <td>1.000000</td>\n",
       "    </tr>\n",
       "    <tr>\n",
       "      <th>tot_cur_bal</th>\n",
       "      <td>39717</td>\n",
       "      <td>1.000000</td>\n",
       "    </tr>\n",
       "    <tr>\n",
       "      <th>tot_coll_amt</th>\n",
       "      <td>39717</td>\n",
       "      <td>1.000000</td>\n",
       "    </tr>\n",
       "    <tr>\n",
       "      <th>mo_sin_rcnt_rev_tl_op</th>\n",
       "      <td>39717</td>\n",
       "      <td>1.000000</td>\n",
       "    </tr>\n",
       "    <tr>\n",
       "      <th>mo_sin_rcnt_tl</th>\n",
       "      <td>39717</td>\n",
       "      <td>1.000000</td>\n",
       "    </tr>\n",
       "    <tr>\n",
       "      <th>mort_acc</th>\n",
       "      <td>39717</td>\n",
       "      <td>1.000000</td>\n",
       "    </tr>\n",
       "    <tr>\n",
       "      <th>num_rev_tl_bal_gt_0</th>\n",
       "      <td>39717</td>\n",
       "      <td>1.000000</td>\n",
       "    </tr>\n",
       "    <tr>\n",
       "      <th>total_bc_limit</th>\n",
       "      <td>39717</td>\n",
       "      <td>1.000000</td>\n",
       "    </tr>\n",
       "    <tr>\n",
       "      <th>total_bal_ex_mort</th>\n",
       "      <td>39717</td>\n",
       "      <td>1.000000</td>\n",
       "    </tr>\n",
       "    <tr>\n",
       "      <th>tot_hi_cred_lim</th>\n",
       "      <td>39717</td>\n",
       "      <td>1.000000</td>\n",
       "    </tr>\n",
       "    <tr>\n",
       "      <th>percent_bc_gt_75</th>\n",
       "      <td>39717</td>\n",
       "      <td>1.000000</td>\n",
       "    </tr>\n",
       "    <tr>\n",
       "      <th>pct_tl_nvr_dlq</th>\n",
       "      <td>39717</td>\n",
       "      <td>1.000000</td>\n",
       "    </tr>\n",
       "    <tr>\n",
       "      <th>num_tl_op_past_12m</th>\n",
       "      <td>39717</td>\n",
       "      <td>1.000000</td>\n",
       "    </tr>\n",
       "    <tr>\n",
       "      <th>num_tl_90g_dpd_24m</th>\n",
       "      <td>39717</td>\n",
       "      <td>1.000000</td>\n",
       "    </tr>\n",
       "    <tr>\n",
       "      <th>num_tl_30dpd</th>\n",
       "      <td>39717</td>\n",
       "      <td>1.000000</td>\n",
       "    </tr>\n",
       "    <tr>\n",
       "      <th>num_tl_120dpd_2m</th>\n",
       "      <td>39717</td>\n",
       "      <td>1.000000</td>\n",
       "    </tr>\n",
       "    <tr>\n",
       "      <th>num_sats</th>\n",
       "      <td>39717</td>\n",
       "      <td>1.000000</td>\n",
       "    </tr>\n",
       "    <tr>\n",
       "      <th>num_rev_accts</th>\n",
       "      <td>39717</td>\n",
       "      <td>1.000000</td>\n",
       "    </tr>\n",
       "    <tr>\n",
       "      <th>mths_since_recent_bc</th>\n",
       "      <td>39717</td>\n",
       "      <td>1.000000</td>\n",
       "    </tr>\n",
       "    <tr>\n",
       "      <th>num_op_rev_tl</th>\n",
       "      <td>39717</td>\n",
       "      <td>1.000000</td>\n",
       "    </tr>\n",
       "    <tr>\n",
       "      <th>num_il_tl</th>\n",
       "      <td>39717</td>\n",
       "      <td>1.000000</td>\n",
       "    </tr>\n",
       "    <tr>\n",
       "      <th>num_bc_tl</th>\n",
       "      <td>39717</td>\n",
       "      <td>1.000000</td>\n",
       "    </tr>\n",
       "    <tr>\n",
       "      <th>num_bc_sats</th>\n",
       "      <td>39717</td>\n",
       "      <td>1.000000</td>\n",
       "    </tr>\n",
       "    <tr>\n",
       "      <th>num_actv_rev_tl</th>\n",
       "      <td>39717</td>\n",
       "      <td>1.000000</td>\n",
       "    </tr>\n",
       "    <tr>\n",
       "      <th>num_actv_bc_tl</th>\n",
       "      <td>39717</td>\n",
       "      <td>1.000000</td>\n",
       "    </tr>\n",
       "    <tr>\n",
       "      <th>num_accts_ever_120_pd</th>\n",
       "      <td>39717</td>\n",
       "      <td>1.000000</td>\n",
       "    </tr>\n",
       "    <tr>\n",
       "      <th>mths_since_recent_revol_delinq</th>\n",
       "      <td>39717</td>\n",
       "      <td>1.000000</td>\n",
       "    </tr>\n",
       "    <tr>\n",
       "      <th>mths_since_recent_inq</th>\n",
       "      <td>39717</td>\n",
       "      <td>1.000000</td>\n",
       "    </tr>\n",
       "    <tr>\n",
       "      <th>mths_since_recent_bc_dlq</th>\n",
       "      <td>39717</td>\n",
       "      <td>1.000000</td>\n",
       "    </tr>\n",
       "    <tr>\n",
       "      <th>dti_joint</th>\n",
       "      <td>39717</td>\n",
       "      <td>1.000000</td>\n",
       "    </tr>\n",
       "    <tr>\n",
       "      <th>total_il_high_credit_limit</th>\n",
       "      <td>39717</td>\n",
       "      <td>1.000000</td>\n",
       "    </tr>\n",
       "    <tr>\n",
       "      <th>mths_since_last_major_derog</th>\n",
       "      <td>39717</td>\n",
       "      <td>1.000000</td>\n",
       "    </tr>\n",
       "    <tr>\n",
       "      <th>next_pymnt_d</th>\n",
       "      <td>38577</td>\n",
       "      <td>0.971297</td>\n",
       "    </tr>\n",
       "  </tbody>\n",
       "</table>\n",
       "</div>"
      ],
      "text/plain": [
       "                                Total   Percent\n",
       "verification_status_joint       39717  1.000000\n",
       "annual_inc_joint                39717  1.000000\n",
       "mo_sin_old_rev_tl_op            39717  1.000000\n",
       "mo_sin_old_il_acct              39717  1.000000\n",
       "bc_util                         39717  1.000000\n",
       "bc_open_to_buy                  39717  1.000000\n",
       "avg_cur_bal                     39717  1.000000\n",
       "acc_open_past_24mths            39717  1.000000\n",
       "inq_last_12m                    39717  1.000000\n",
       "total_cu_tl                     39717  1.000000\n",
       "inq_fi                          39717  1.000000\n",
       "total_rev_hi_lim                39717  1.000000\n",
       "all_util                        39717  1.000000\n",
       "max_bal_bc                      39717  1.000000\n",
       "open_rv_24m                     39717  1.000000\n",
       "open_rv_12m                     39717  1.000000\n",
       "il_util                         39717  1.000000\n",
       "total_bal_il                    39717  1.000000\n",
       "mths_since_rcnt_il              39717  1.000000\n",
       "open_il_24m                     39717  1.000000\n",
       "open_il_12m                     39717  1.000000\n",
       "open_il_6m                      39717  1.000000\n",
       "open_acc_6m                     39717  1.000000\n",
       "tot_cur_bal                     39717  1.000000\n",
       "tot_coll_amt                    39717  1.000000\n",
       "mo_sin_rcnt_rev_tl_op           39717  1.000000\n",
       "mo_sin_rcnt_tl                  39717  1.000000\n",
       "mort_acc                        39717  1.000000\n",
       "num_rev_tl_bal_gt_0             39717  1.000000\n",
       "total_bc_limit                  39717  1.000000\n",
       "total_bal_ex_mort               39717  1.000000\n",
       "tot_hi_cred_lim                 39717  1.000000\n",
       "percent_bc_gt_75                39717  1.000000\n",
       "pct_tl_nvr_dlq                  39717  1.000000\n",
       "num_tl_op_past_12m              39717  1.000000\n",
       "num_tl_90g_dpd_24m              39717  1.000000\n",
       "num_tl_30dpd                    39717  1.000000\n",
       "num_tl_120dpd_2m                39717  1.000000\n",
       "num_sats                        39717  1.000000\n",
       "num_rev_accts                   39717  1.000000\n",
       "mths_since_recent_bc            39717  1.000000\n",
       "num_op_rev_tl                   39717  1.000000\n",
       "num_il_tl                       39717  1.000000\n",
       "num_bc_tl                       39717  1.000000\n",
       "num_bc_sats                     39717  1.000000\n",
       "num_actv_rev_tl                 39717  1.000000\n",
       "num_actv_bc_tl                  39717  1.000000\n",
       "num_accts_ever_120_pd           39717  1.000000\n",
       "mths_since_recent_revol_delinq  39717  1.000000\n",
       "mths_since_recent_inq           39717  1.000000\n",
       "mths_since_recent_bc_dlq        39717  1.000000\n",
       "dti_joint                       39717  1.000000\n",
       "total_il_high_credit_limit      39717  1.000000\n",
       "mths_since_last_major_derog     39717  1.000000\n",
       "next_pymnt_d                    38577  0.971297"
      ]
     },
     "execution_count": 140,
     "metadata": {},
     "output_type": "execute_result"
    }
   ],
   "source": [
    "total = loan_df.isnull().sum().sort_values(ascending=False)\n",
    "percent = (loan_df.isnull().sum()/loan_df.isnull().count()).sort_values(ascending=False)\n",
    "missing_data = pd.concat([total, percent], axis=1, keys=['Total', 'Percent'])\n",
    "missing_data[:55]"
   ]
  },
  {
   "cell_type": "code",
   "execution_count": 141,
   "id": "505ebab3",
   "metadata": {},
   "outputs": [
    {
     "data": {
      "text/html": [
       "<div>\n",
       "<style scoped>\n",
       "    .dataframe tbody tr th:only-of-type {\n",
       "        vertical-align: middle;\n",
       "    }\n",
       "\n",
       "    .dataframe tbody tr th {\n",
       "        vertical-align: top;\n",
       "    }\n",
       "\n",
       "    .dataframe thead th {\n",
       "        text-align: right;\n",
       "    }\n",
       "</style>\n",
       "<table border=\"1\" class=\"dataframe\">\n",
       "  <thead>\n",
       "    <tr style=\"text-align: right;\">\n",
       "      <th></th>\n",
       "      <th>Total</th>\n",
       "      <th>Percent</th>\n",
       "    </tr>\n",
       "  </thead>\n",
       "  <tbody>\n",
       "    <tr>\n",
       "      <th>mths_since_last_record</th>\n",
       "      <td>36931</td>\n",
       "      <td>0.929854</td>\n",
       "    </tr>\n",
       "    <tr>\n",
       "      <th>mths_since_last_delinq</th>\n",
       "      <td>25682</td>\n",
       "      <td>0.646625</td>\n",
       "    </tr>\n",
       "    <tr>\n",
       "      <th>desc</th>\n",
       "      <td>12940</td>\n",
       "      <td>0.325805</td>\n",
       "    </tr>\n",
       "    <tr>\n",
       "      <th>emp_title</th>\n",
       "      <td>2459</td>\n",
       "      <td>0.061913</td>\n",
       "    </tr>\n",
       "    <tr>\n",
       "      <th>emp_length</th>\n",
       "      <td>1075</td>\n",
       "      <td>0.027066</td>\n",
       "    </tr>\n",
       "    <tr>\n",
       "      <th>pub_rec_bankruptcies</th>\n",
       "      <td>697</td>\n",
       "      <td>0.017549</td>\n",
       "    </tr>\n",
       "    <tr>\n",
       "      <th>last_pymnt_d</th>\n",
       "      <td>71</td>\n",
       "      <td>0.001788</td>\n",
       "    </tr>\n",
       "    <tr>\n",
       "      <th>collections_12_mths_ex_med</th>\n",
       "      <td>56</td>\n",
       "      <td>0.001410</td>\n",
       "    </tr>\n",
       "    <tr>\n",
       "      <th>chargeoff_within_12_mths</th>\n",
       "      <td>56</td>\n",
       "      <td>0.001410</td>\n",
       "    </tr>\n",
       "    <tr>\n",
       "      <th>revol_util</th>\n",
       "      <td>50</td>\n",
       "      <td>0.001259</td>\n",
       "    </tr>\n",
       "    <tr>\n",
       "      <th>tax_liens</th>\n",
       "      <td>39</td>\n",
       "      <td>0.000982</td>\n",
       "    </tr>\n",
       "    <tr>\n",
       "      <th>title</th>\n",
       "      <td>11</td>\n",
       "      <td>0.000277</td>\n",
       "    </tr>\n",
       "    <tr>\n",
       "      <th>last_credit_pull_d</th>\n",
       "      <td>2</td>\n",
       "      <td>0.000050</td>\n",
       "    </tr>\n",
       "    <tr>\n",
       "      <th>pymnt_plan</th>\n",
       "      <td>0</td>\n",
       "      <td>0.000000</td>\n",
       "    </tr>\n",
       "    <tr>\n",
       "      <th>url</th>\n",
       "      <td>0</td>\n",
       "      <td>0.000000</td>\n",
       "    </tr>\n",
       "    <tr>\n",
       "      <th>loan_status</th>\n",
       "      <td>0</td>\n",
       "      <td>0.000000</td>\n",
       "    </tr>\n",
       "    <tr>\n",
       "      <th>purpose</th>\n",
       "      <td>0</td>\n",
       "      <td>0.000000</td>\n",
       "    </tr>\n",
       "    <tr>\n",
       "      <th>issue_d</th>\n",
       "      <td>0</td>\n",
       "      <td>0.000000</td>\n",
       "    </tr>\n",
       "    <tr>\n",
       "      <th>verification_status</th>\n",
       "      <td>0</td>\n",
       "      <td>0.000000</td>\n",
       "    </tr>\n",
       "    <tr>\n",
       "      <th>application_type</th>\n",
       "      <td>0</td>\n",
       "      <td>0.000000</td>\n",
       "    </tr>\n",
       "    <tr>\n",
       "      <th>annual_inc</th>\n",
       "      <td>0</td>\n",
       "      <td>0.000000</td>\n",
       "    </tr>\n",
       "    <tr>\n",
       "      <th>home_ownership</th>\n",
       "      <td>0</td>\n",
       "      <td>0.000000</td>\n",
       "    </tr>\n",
       "    <tr>\n",
       "      <th>zip_code</th>\n",
       "      <td>0</td>\n",
       "      <td>0.000000</td>\n",
       "    </tr>\n",
       "    <tr>\n",
       "      <th>grade</th>\n",
       "      <td>0</td>\n",
       "      <td>0.000000</td>\n",
       "    </tr>\n",
       "    <tr>\n",
       "      <th>installment</th>\n",
       "      <td>0</td>\n",
       "      <td>0.000000</td>\n",
       "    </tr>\n",
       "    <tr>\n",
       "      <th>int_rate</th>\n",
       "      <td>0</td>\n",
       "      <td>0.000000</td>\n",
       "    </tr>\n",
       "    <tr>\n",
       "      <th>term</th>\n",
       "      <td>0</td>\n",
       "      <td>0.000000</td>\n",
       "    </tr>\n",
       "    <tr>\n",
       "      <th>funded_amnt_inv</th>\n",
       "      <td>0</td>\n",
       "      <td>0.000000</td>\n",
       "    </tr>\n",
       "    <tr>\n",
       "      <th>funded_amnt</th>\n",
       "      <td>0</td>\n",
       "      <td>0.000000</td>\n",
       "    </tr>\n",
       "    <tr>\n",
       "      <th>loan_amnt</th>\n",
       "      <td>0</td>\n",
       "      <td>0.000000</td>\n",
       "    </tr>\n",
       "    <tr>\n",
       "      <th>sub_grade</th>\n",
       "      <td>0</td>\n",
       "      <td>0.000000</td>\n",
       "    </tr>\n",
       "    <tr>\n",
       "      <th>inq_last_6mths</th>\n",
       "      <td>0</td>\n",
       "      <td>0.000000</td>\n",
       "    </tr>\n",
       "    <tr>\n",
       "      <th>addr_state</th>\n",
       "      <td>0</td>\n",
       "      <td>0.000000</td>\n",
       "    </tr>\n",
       "    <tr>\n",
       "      <th>dti</th>\n",
       "      <td>0</td>\n",
       "      <td>0.000000</td>\n",
       "    </tr>\n",
       "    <tr>\n",
       "      <th>member_id</th>\n",
       "      <td>0</td>\n",
       "      <td>0.000000</td>\n",
       "    </tr>\n",
       "    <tr>\n",
       "      <th>acc_now_delinq</th>\n",
       "      <td>0</td>\n",
       "      <td>0.000000</td>\n",
       "    </tr>\n",
       "    <tr>\n",
       "      <th>last_pymnt_amnt</th>\n",
       "      <td>0</td>\n",
       "      <td>0.000000</td>\n",
       "    </tr>\n",
       "    <tr>\n",
       "      <th>collection_recovery_fee</th>\n",
       "      <td>0</td>\n",
       "      <td>0.000000</td>\n",
       "    </tr>\n",
       "    <tr>\n",
       "      <th>recoveries</th>\n",
       "      <td>0</td>\n",
       "      <td>0.000000</td>\n",
       "    </tr>\n",
       "    <tr>\n",
       "      <th>total_rec_late_fee</th>\n",
       "      <td>0</td>\n",
       "      <td>0.000000</td>\n",
       "    </tr>\n",
       "    <tr>\n",
       "      <th>total_rec_int</th>\n",
       "      <td>0</td>\n",
       "      <td>0.000000</td>\n",
       "    </tr>\n",
       "    <tr>\n",
       "      <th>total_rec_prncp</th>\n",
       "      <td>0</td>\n",
       "      <td>0.000000</td>\n",
       "    </tr>\n",
       "    <tr>\n",
       "      <th>total_pymnt_inv</th>\n",
       "      <td>0</td>\n",
       "      <td>0.000000</td>\n",
       "    </tr>\n",
       "    <tr>\n",
       "      <th>total_pymnt</th>\n",
       "      <td>0</td>\n",
       "      <td>0.000000</td>\n",
       "    </tr>\n",
       "    <tr>\n",
       "      <th>out_prncp_inv</th>\n",
       "      <td>0</td>\n",
       "      <td>0.000000</td>\n",
       "    </tr>\n",
       "    <tr>\n",
       "      <th>out_prncp</th>\n",
       "      <td>0</td>\n",
       "      <td>0.000000</td>\n",
       "    </tr>\n",
       "    <tr>\n",
       "      <th>initial_list_status</th>\n",
       "      <td>0</td>\n",
       "      <td>0.000000</td>\n",
       "    </tr>\n",
       "    <tr>\n",
       "      <th>total_acc</th>\n",
       "      <td>0</td>\n",
       "      <td>0.000000</td>\n",
       "    </tr>\n",
       "    <tr>\n",
       "      <th>revol_bal</th>\n",
       "      <td>0</td>\n",
       "      <td>0.000000</td>\n",
       "    </tr>\n",
       "    <tr>\n",
       "      <th>pub_rec</th>\n",
       "      <td>0</td>\n",
       "      <td>0.000000</td>\n",
       "    </tr>\n",
       "    <tr>\n",
       "      <th>open_acc</th>\n",
       "      <td>0</td>\n",
       "      <td>0.000000</td>\n",
       "    </tr>\n",
       "    <tr>\n",
       "      <th>delinq_amnt</th>\n",
       "      <td>0</td>\n",
       "      <td>0.000000</td>\n",
       "    </tr>\n",
       "    <tr>\n",
       "      <th>policy_code</th>\n",
       "      <td>0</td>\n",
       "      <td>0.000000</td>\n",
       "    </tr>\n",
       "    <tr>\n",
       "      <th>earliest_cr_line</th>\n",
       "      <td>0</td>\n",
       "      <td>0.000000</td>\n",
       "    </tr>\n",
       "    <tr>\n",
       "      <th>delinq_2yrs</th>\n",
       "      <td>0</td>\n",
       "      <td>0.000000</td>\n",
       "    </tr>\n",
       "    <tr>\n",
       "      <th>id</th>\n",
       "      <td>0</td>\n",
       "      <td>0.000000</td>\n",
       "    </tr>\n",
       "  </tbody>\n",
       "</table>\n",
       "</div>"
      ],
      "text/plain": [
       "                            Total   Percent\n",
       "mths_since_last_record      36931  0.929854\n",
       "mths_since_last_delinq      25682  0.646625\n",
       "desc                        12940  0.325805\n",
       "emp_title                    2459  0.061913\n",
       "emp_length                   1075  0.027066\n",
       "pub_rec_bankruptcies          697  0.017549\n",
       "last_pymnt_d                   71  0.001788\n",
       "collections_12_mths_ex_med     56  0.001410\n",
       "chargeoff_within_12_mths       56  0.001410\n",
       "revol_util                     50  0.001259\n",
       "tax_liens                      39  0.000982\n",
       "title                          11  0.000277\n",
       "last_credit_pull_d              2  0.000050\n",
       "pymnt_plan                      0  0.000000\n",
       "url                             0  0.000000\n",
       "loan_status                     0  0.000000\n",
       "purpose                         0  0.000000\n",
       "issue_d                         0  0.000000\n",
       "verification_status             0  0.000000\n",
       "application_type                0  0.000000\n",
       "annual_inc                      0  0.000000\n",
       "home_ownership                  0  0.000000\n",
       "zip_code                        0  0.000000\n",
       "grade                           0  0.000000\n",
       "installment                     0  0.000000\n",
       "int_rate                        0  0.000000\n",
       "term                            0  0.000000\n",
       "funded_amnt_inv                 0  0.000000\n",
       "funded_amnt                     0  0.000000\n",
       "loan_amnt                       0  0.000000\n",
       "sub_grade                       0  0.000000\n",
       "inq_last_6mths                  0  0.000000\n",
       "addr_state                      0  0.000000\n",
       "dti                             0  0.000000\n",
       "member_id                       0  0.000000\n",
       "acc_now_delinq                  0  0.000000\n",
       "last_pymnt_amnt                 0  0.000000\n",
       "collection_recovery_fee         0  0.000000\n",
       "recoveries                      0  0.000000\n",
       "total_rec_late_fee              0  0.000000\n",
       "total_rec_int                   0  0.000000\n",
       "total_rec_prncp                 0  0.000000\n",
       "total_pymnt_inv                 0  0.000000\n",
       "total_pymnt                     0  0.000000\n",
       "out_prncp_inv                   0  0.000000\n",
       "out_prncp                       0  0.000000\n",
       "initial_list_status             0  0.000000\n",
       "total_acc                       0  0.000000\n",
       "revol_bal                       0  0.000000\n",
       "pub_rec                         0  0.000000\n",
       "open_acc                        0  0.000000\n",
       "delinq_amnt                     0  0.000000\n",
       "policy_code                     0  0.000000\n",
       "earliest_cr_line                0  0.000000\n",
       "delinq_2yrs                     0  0.000000\n",
       "id                              0  0.000000"
      ]
     },
     "execution_count": 141,
     "metadata": {},
     "output_type": "execute_result"
    }
   ],
   "source": [
    "missing_data[55:]"
   ]
  },
  {
   "cell_type": "markdown",
   "id": "731002d0",
   "metadata": {},
   "source": [
    "## As we can see all the columns above column \"mths_since_last_delinq\" have equal to or more than 64% missing values, so let's delete columns with more than 60% missing values for now, since there is no way to compute these values or make sense of them"
   ]
  },
  {
   "cell_type": "code",
   "execution_count": 142,
   "id": "0fd58872",
   "metadata": {},
   "outputs": [],
   "source": [
    "loan_df = loan_df.drop((missing_data[missing_data['Percent'] > .6]).index,axis =1)"
   ]
  },
  {
   "cell_type": "code",
   "execution_count": 143,
   "id": "cbd27d73",
   "metadata": {},
   "outputs": [
    {
     "data": {
      "text/plain": [
       "(39717, 54)"
      ]
     },
     "execution_count": 143,
     "metadata": {},
     "output_type": "execute_result"
    }
   ],
   "source": [
    "loan_df.shape"
   ]
  },
  {
   "cell_type": "markdown",
   "id": "d86450da",
   "metadata": {},
   "source": [
    "### Now removing the columns that are the customer behavior variables are not available at the time of loan application, and thus they cannot be used as predictors for credit approval(As discussed in the live upgrad class)"
   ]
  },
  {
   "cell_type": "code",
   "execution_count": 144,
   "id": "ffd1b0d7",
   "metadata": {},
   "outputs": [
    {
     "name": "stderr",
     "output_type": "stream",
     "text": [
      "C:\\Users\\AAKASH\\anaconda3\\envs\\datascience\\lib\\site-packages\\ipykernel_launcher.py:1: FutureWarning: In a future version of pandas all arguments of DataFrame.drop except for the argument 'labels' will be keyword-only\n",
      "  \"\"\"Entry point for launching an IPython kernel.\n"
     ]
    }
   ],
   "source": [
    "loan_df = loan_df.drop(['delinq_2yrs','earliest_cr_line','inq_last_6mths','open_acc','pub_rec','revol_bal','revol_util','total_acc','out_prncp','out_prncp_inv','total_pymnt','total_pymnt_inv','total_rec_prncp','total_rec_int','total_rec_late_fee','recoveries','collection_recovery_fee','last_pymnt_d','last_pymnt_amnt','last_credit_pull_d','application_type'],1)"
   ]
  },
  {
   "cell_type": "code",
   "execution_count": 145,
   "id": "2019e769",
   "metadata": {},
   "outputs": [
    {
     "data": {
      "text/plain": [
       "(39717, 33)"
      ]
     },
     "execution_count": 145,
     "metadata": {},
     "output_type": "execute_result"
    }
   ],
   "source": [
    "loan_df.shape"
   ]
  },
  {
   "cell_type": "code",
   "execution_count": 146,
   "id": "d83dada4",
   "metadata": {},
   "outputs": [
    {
     "name": "stdout",
     "output_type": "stream",
     "text": [
      "                 id     member_id     loan_amnt   funded_amnt  \\\n",
      "count  3.971700e+04  3.971700e+04  39717.000000  39717.000000   \n",
      "mean   6.831319e+05  8.504636e+05  11219.443815  10947.713196   \n",
      "std    2.106941e+05  2.656783e+05   7456.670694   7187.238670   \n",
      "min    5.473400e+04  7.069900e+04    500.000000    500.000000   \n",
      "25%    5.162210e+05  6.667800e+05   5500.000000   5400.000000   \n",
      "50%    6.656650e+05  8.508120e+05  10000.000000   9600.000000   \n",
      "75%    8.377550e+05  1.047339e+06  15000.000000  15000.000000   \n",
      "max    1.077501e+06  1.314167e+06  35000.000000  35000.000000   \n",
      "\n",
      "       funded_amnt_inv   installment    annual_inc           dti  \\\n",
      "count     39717.000000  39717.000000  3.971700e+04  39717.000000   \n",
      "mean      10397.448868    324.561922  6.896893e+04     13.315130   \n",
      "std        7128.450439    208.874874  6.379377e+04      6.678594   \n",
      "min           0.000000     15.690000  4.000000e+03      0.000000   \n",
      "25%        5000.000000    167.020000  4.040400e+04      8.170000   \n",
      "50%        8975.000000    280.220000  5.900000e+04     13.400000   \n",
      "75%       14400.000000    430.780000  8.230000e+04     18.600000   \n",
      "max       35000.000000   1305.190000  6.000000e+06     29.990000   \n",
      "\n",
      "       collections_12_mths_ex_med  policy_code  acc_now_delinq  \\\n",
      "count                     39661.0      39717.0         39717.0   \n",
      "mean                          0.0          1.0             0.0   \n",
      "std                           0.0          0.0             0.0   \n",
      "min                           0.0          1.0             0.0   \n",
      "25%                           0.0          1.0             0.0   \n",
      "50%                           0.0          1.0             0.0   \n",
      "75%                           0.0          1.0             0.0   \n",
      "max                           0.0          1.0             0.0   \n",
      "\n",
      "       chargeoff_within_12_mths  delinq_amnt  pub_rec_bankruptcies  tax_liens  \n",
      "count                   39661.0      39717.0          39020.000000    39678.0  \n",
      "mean                        0.0          0.0              0.043260        0.0  \n",
      "std                         0.0          0.0              0.204324        0.0  \n",
      "min                         0.0          0.0              0.000000        0.0  \n",
      "25%                         0.0          0.0              0.000000        0.0  \n",
      "50%                         0.0          0.0              0.000000        0.0  \n",
      "75%                         0.0          0.0              0.000000        0.0  \n",
      "max                         0.0          0.0              2.000000        0.0  \n"
     ]
    }
   ],
   "source": [
    "print(loan_df.describe())"
   ]
  },
  {
   "cell_type": "markdown",
   "id": "c669293b",
   "metadata": {},
   "source": [
    "## Removing the columns with only zero values or policy_codes"
   ]
  },
  {
   "cell_type": "code",
   "execution_count": 147,
   "id": "6a1e3fb0",
   "metadata": {},
   "outputs": [
    {
     "name": "stderr",
     "output_type": "stream",
     "text": [
      "C:\\Users\\AAKASH\\anaconda3\\envs\\datascience\\lib\\site-packages\\ipykernel_launcher.py:1: FutureWarning: In a future version of pandas all arguments of DataFrame.drop except for the argument 'labels' will be keyword-only\n",
      "  \"\"\"Entry point for launching an IPython kernel.\n"
     ]
    }
   ],
   "source": [
    "loan_df = loan_df.drop(['collections_12_mths_ex_med', 'policy_code', 'acc_now_delinq', 'chargeoff_within_12_mths','delinq_amnt','tax_liens' ],1)"
   ]
  },
  {
   "cell_type": "code",
   "execution_count": 148,
   "id": "b7a63566",
   "metadata": {},
   "outputs": [
    {
     "data": {
      "text/plain": [
       "(39717, 27)"
      ]
     },
     "execution_count": 148,
     "metadata": {},
     "output_type": "execute_result"
    }
   ],
   "source": [
    "loan_df.shape"
   ]
  },
  {
   "cell_type": "code",
   "execution_count": 149,
   "id": "0cdc280c",
   "metadata": {},
   "outputs": [
    {
     "data": {
      "text/plain": [
       "Index(['id', 'member_id', 'loan_amnt', 'funded_amnt', 'funded_amnt_inv',\n",
       "       'term', 'int_rate', 'installment', 'grade', 'sub_grade', 'emp_title',\n",
       "       'emp_length', 'home_ownership', 'annual_inc', 'verification_status',\n",
       "       'issue_d', 'loan_status', 'pymnt_plan', 'url', 'desc', 'purpose',\n",
       "       'title', 'zip_code', 'addr_state', 'dti', 'initial_list_status',\n",
       "       'pub_rec_bankruptcies'],\n",
       "      dtype='object')"
      ]
     },
     "execution_count": 149,
     "metadata": {},
     "output_type": "execute_result"
    }
   ],
   "source": [
    "loan_df.columns"
   ]
  },
  {
   "cell_type": "code",
   "execution_count": 150,
   "id": "e5e5b7d1",
   "metadata": {},
   "outputs": [
    {
     "data": {
      "text/plain": [
       "n    39717\n",
       "Name: pymnt_plan, dtype: int64"
      ]
     },
     "execution_count": 150,
     "metadata": {},
     "output_type": "execute_result"
    }
   ],
   "source": [
    "loan_df['pymnt_plan'].value_counts()"
   ]
  },
  {
   "cell_type": "code",
   "execution_count": 151,
   "id": "bd08c753",
   "metadata": {},
   "outputs": [
    {
     "data": {
      "text/plain": [
       "https://lendingclub.com/browse/loanDetail.action?loan_id=1077501    1\n",
       "https://lendingclub.com/browse/loanDetail.action?loan_id=568534     1\n",
       "https://lendingclub.com/browse/loanDetail.action?loan_id=568659     1\n",
       "https://lendingclub.com/browse/loanDetail.action?loan_id=567165     1\n",
       "https://lendingclub.com/browse/loanDetail.action?loan_id=568531     1\n",
       "                                                                   ..\n",
       "https://lendingclub.com/browse/loanDetail.action?loan_id=785667     1\n",
       "https://lendingclub.com/browse/loanDetail.action?loan_id=785659     1\n",
       "https://lendingclub.com/browse/loanDetail.action?loan_id=785630     1\n",
       "https://lendingclub.com/browse/loanDetail.action?loan_id=785626     1\n",
       "https://lendingclub.com/browse/loanDetail.action?loan_id=87023      1\n",
       "Name: url, Length: 39717, dtype: int64"
      ]
     },
     "execution_count": 151,
     "metadata": {},
     "output_type": "execute_result"
    }
   ],
   "source": [
    "loan_df['url'].value_counts()"
   ]
  },
  {
   "cell_type": "code",
   "execution_count": 152,
   "id": "d05f1dcc",
   "metadata": {},
   "outputs": [
    {
     "data": {
      "text/plain": [
       "                                                                                                                                                                                                                                                                                                                                                                                                                                                                                                                                                                                                                                                                              210\n",
       "Debt Consolidation                                                                                                                                                                                                                                                                                                                                                                                                                                                                                                                                                                                                                                                              8\n",
       "Camping Membership                                                                                                                                                                                                                                                                                                                                                                                                                                                                                                                                                                                                                                                              6\n",
       "personal loan                                                                                                                                                                                                                                                                                                                                                                                                                                                                                                                                                                                                                                                                   3\n",
       "credit card consolidation                                                                                                                                                                                                                                                                                                                                                                                                                                                                                                                                                                                                                                                       3\n",
       "                                                                                                                                                                                                                                                                                                                                                                                                                                                                                                                                                                                                                                                                             ... \n",
       "  Borrower added on 05/13/11 > I have a very stable income and have &quot;NEVER&quot; been delinquent on any accounts. I am interested in consolidating my credit card accounts along with a personal loan for the benefit of paying one payment a month versus multiple. Thank you.<br/>                                                                                                                                                                                                                                                                                                                                                                                       1\n",
       "  Borrower added on 05/13/11 > This loan is to partially finance a car. The payments will be very manageable for me.<br/>                                                                                                                                                                                                                                                                                                                                                                                                                                                                                                                                                       1\n",
       "  Borrower added on 05/13/11 > I am consolidating my bills to make it cheaper on bills. I am up for a promotion at my job and have been here three years already. I also have a fiance that has a very reliable job who also helps with finances. My requirement is that all bills are paid on time if not early. This is to keep good standings with all businesses and keep a awesome credit score.<br/> Borrower added on 05/16/11 > I am asking for this loan to pay off bills with higher interest rates and have a lower payment every month.<br/>                                                                                                                        1\n",
       "  Borrower added on 05/13/11 > Debt Consolidation<br/> Borrower added on 05/13/11 > I plan to use this money to consolidate bills with high monthly payments and improve cash flow.<br/> Borrower added on 05/13/11 > I have good credit and I have a very stable, solid and professional job that I have held for a long time - over 20 years.  I have a Bachelor's degree and I'm currently working on a masters.<br/> Borrower added on 05/13/11 > My mortgage and utilities run approx less than 2k per month including taxes.  I have sufficient income to pay off this loan. I simply want to take my open accounts and consolidate them into one easy payment.<br/>      1\n",
       "I plan to consolidate over $7,000 of debt: a combination of credit cards and student loans.                                                                                                                                                                                                                                                                                                                                                                                                                                                                                                                                                                                     1\n",
       "Name: desc, Length: 26527, dtype: int64"
      ]
     },
     "execution_count": 152,
     "metadata": {},
     "output_type": "execute_result"
    }
   ],
   "source": [
    "loan_df['desc'].value_counts()"
   ]
  },
  {
   "cell_type": "code",
   "execution_count": 153,
   "id": "b32883cb",
   "metadata": {},
   "outputs": [
    {
     "data": {
      "text/plain": [
       "f    39717\n",
       "Name: initial_list_status, dtype: int64"
      ]
     },
     "execution_count": 153,
     "metadata": {},
     "output_type": "execute_result"
    }
   ],
   "source": [
    "loan_df['initial_list_status'].value_counts()"
   ]
  },
  {
   "cell_type": "markdown",
   "id": "d0e4d2a2",
   "metadata": {},
   "source": [
    "## Removing the above 4 columns because they have a single value or text data which cannot be used by us in EDA"
   ]
  },
  {
   "cell_type": "code",
   "execution_count": 154,
   "id": "09331868",
   "metadata": {},
   "outputs": [
    {
     "name": "stderr",
     "output_type": "stream",
     "text": [
      "C:\\Users\\AAKASH\\anaconda3\\envs\\datascience\\lib\\site-packages\\ipykernel_launcher.py:1: FutureWarning: In a future version of pandas all arguments of DataFrame.drop except for the argument 'labels' will be keyword-only\n",
      "  \"\"\"Entry point for launching an IPython kernel.\n"
     ]
    }
   ],
   "source": [
    "loan_df = loan_df.drop(['pymnt_plan', 'url', 'desc','initial_list_status'],1)"
   ]
  },
  {
   "cell_type": "code",
   "execution_count": 155,
   "id": "d162cde4",
   "metadata": {},
   "outputs": [
    {
     "data": {
      "text/plain": [
       "(39717, 23)"
      ]
     },
     "execution_count": 155,
     "metadata": {},
     "output_type": "execute_result"
    }
   ],
   "source": [
    "loan_df.shape"
   ]
  },
  {
   "cell_type": "code",
   "execution_count": 156,
   "id": "a16babad",
   "metadata": {},
   "outputs": [
    {
     "data": {
      "text/plain": [
       "Fully Paid     32950\n",
       "Charged Off     5627\n",
       "Current         1140\n",
       "Name: loan_status, dtype: int64"
      ]
     },
     "execution_count": 156,
     "metadata": {},
     "output_type": "execute_result"
    }
   ],
   "source": [
    "loan_df['loan_status'].value_counts()"
   ]
  },
  {
   "cell_type": "markdown",
   "id": "6fcab952",
   "metadata": {},
   "source": [
    "## We will have to remove rows which are for current loan status, because for the guy who is paying the loan there is no way to say if it is a good or bad loan, so don't use that current data in the analysis. Considering only fully paid and charged off loans"
   ]
  },
  {
   "cell_type": "code",
   "execution_count": 157,
   "id": "55d85a5c",
   "metadata": {},
   "outputs": [],
   "source": [
    "loan_df = loan_df[loan_df['loan_status'] != \"Current\"]"
   ]
  },
  {
   "cell_type": "code",
   "execution_count": 158,
   "id": "0e627fde",
   "metadata": {},
   "outputs": [
    {
     "data": {
      "text/plain": [
       "Fully Paid     32950\n",
       "Charged Off     5627\n",
       "Name: loan_status, dtype: int64"
      ]
     },
     "execution_count": 158,
     "metadata": {},
     "output_type": "execute_result"
    }
   ],
   "source": [
    "loan_df['loan_status'].value_counts()"
   ]
  },
  {
   "cell_type": "markdown",
   "id": "26b05588",
   "metadata": {},
   "source": [
    "## We can see that our data is imbalanced in favour of Fully paid, but that was expected and for now I will not do much about it since we are not doing predictive modelling"
   ]
  },
  {
   "cell_type": "code",
   "execution_count": 159,
   "id": "a11c6862",
   "metadata": {},
   "outputs": [
    {
     "data": {
      "text/plain": [
       "(38577, 23)"
      ]
     },
     "execution_count": 159,
     "metadata": {},
     "output_type": "execute_result"
    }
   ],
   "source": [
    "loan_df.shape"
   ]
  },
  {
   "cell_type": "code",
   "execution_count": 160,
   "id": "c7abb12d",
   "metadata": {},
   "outputs": [
    {
     "data": {
      "text/plain": [
       "Index(['id', 'member_id', 'loan_amnt', 'funded_amnt', 'funded_amnt_inv',\n",
       "       'term', 'int_rate', 'installment', 'grade', 'sub_grade', 'emp_title',\n",
       "       'emp_length', 'home_ownership', 'annual_inc', 'verification_status',\n",
       "       'issue_d', 'loan_status', 'purpose', 'title', 'zip_code', 'addr_state',\n",
       "       'dti', 'pub_rec_bankruptcies'],\n",
       "      dtype='object')"
      ]
     },
     "execution_count": 160,
     "metadata": {},
     "output_type": "execute_result"
    }
   ],
   "source": [
    "loan_df.columns"
   ]
  },
  {
   "cell_type": "markdown",
   "id": "4c7a3227",
   "metadata": {},
   "source": [
    "## Making derived columns"
   ]
  },
  {
   "cell_type": "code",
   "execution_count": 161,
   "id": "e8435ec2",
   "metadata": {},
   "outputs": [
    {
     "data": {
      "text/plain": [
       " 36 months    29096\n",
       " 60 months     9481\n",
       "Name: term, dtype: int64"
      ]
     },
     "execution_count": 161,
     "metadata": {},
     "output_type": "execute_result"
    }
   ],
   "source": [
    "loan_df['term'].value_counts()"
   ]
  },
  {
   "cell_type": "code",
   "execution_count": 162,
   "id": "20df65ac",
   "metadata": {},
   "outputs": [],
   "source": [
    "loan_df['months'] = loan_df['term'].str.rstrip('months')\n",
    "del loan_df['term']\n"
   ]
  },
  {
   "cell_type": "code",
   "execution_count": 163,
   "id": "d938c79a",
   "metadata": {},
   "outputs": [
    {
     "data": {
      "text/plain": [
       "10.99%    913\n",
       "11.49%    790\n",
       "7.51%     787\n",
       "13.49%    749\n",
       "7.88%     725\n",
       "         ... \n",
       "16.96%      1\n",
       "18.36%      1\n",
       "16.15%      1\n",
       "16.01%      1\n",
       "16.20%      1\n",
       "Name: int_rate, Length: 370, dtype: int64"
      ]
     },
     "execution_count": 163,
     "metadata": {},
     "output_type": "execute_result"
    }
   ],
   "source": [
    "loan_df['int_rate'].value_counts()"
   ]
  },
  {
   "cell_type": "code",
   "execution_count": 164,
   "id": "1406823f",
   "metadata": {},
   "outputs": [],
   "source": [
    "loan_df['interest_percentage'] = loan_df['int_rate'].str.rstrip('%')\n",
    "del loan_df['int_rate']\n"
   ]
  },
  {
   "cell_type": "code",
   "execution_count": 165,
   "id": "a648356c",
   "metadata": {},
   "outputs": [
    {
     "data": {
      "text/plain": [
       "10.99    913\n",
       "11.49    790\n",
       "7.51     787\n",
       "13.49    749\n",
       "7.88     725\n",
       "        ... \n",
       "16.96      1\n",
       "18.36      1\n",
       "16.15      1\n",
       "16.01      1\n",
       "16.20      1\n",
       "Name: interest_percentage, Length: 370, dtype: int64"
      ]
     },
     "execution_count": 165,
     "metadata": {},
     "output_type": "execute_result"
    }
   ],
   "source": [
    "loan_df['interest_percentage'].value_counts()"
   ]
  },
  {
   "cell_type": "code",
   "execution_count": 166,
   "id": "877185fc",
   "metadata": {},
   "outputs": [
    {
     "data": {
      "text/plain": [
       "id                      38577\n",
       "member_id               38577\n",
       "loan_amnt               38577\n",
       "funded_amnt             38577\n",
       "funded_amnt_inv         38577\n",
       "installment             38577\n",
       "grade                   38577\n",
       "sub_grade               38577\n",
       "emp_title               36191\n",
       "emp_length              37544\n",
       "home_ownership          38577\n",
       "annual_inc              38577\n",
       "verification_status     38577\n",
       "issue_d                 38577\n",
       "loan_status             38577\n",
       "purpose                 38577\n",
       "title                   38566\n",
       "zip_code                38577\n",
       "addr_state              38577\n",
       "dti                     38577\n",
       "pub_rec_bankruptcies    37880\n",
       "months                  38577\n",
       "interest_percentage     38577\n",
       "dtype: int64"
      ]
     },
     "execution_count": 166,
     "metadata": {},
     "output_type": "execute_result"
    }
   ],
   "source": [
    "loan_df.count()"
   ]
  },
  {
   "cell_type": "markdown",
   "id": "83b7005d",
   "metadata": {},
   "source": [
    "## As we can see above only 4 columns have very few missing values. So we can now start with our further analysis"
   ]
  },
  {
   "cell_type": "code",
   "execution_count": 167,
   "id": "2a826483",
   "metadata": {},
   "outputs": [
    {
     "data": {
      "text/plain": [
       "(38577, 23)"
      ]
     },
     "execution_count": 167,
     "metadata": {},
     "output_type": "execute_result"
    }
   ],
   "source": [
    "loan_df.shape"
   ]
  },
  {
   "cell_type": "code",
   "execution_count": 168,
   "id": "eb55ca30",
   "metadata": {},
   "outputs": [
    {
     "data": {
      "text/plain": [
       "Index(['id', 'member_id', 'loan_amnt', 'funded_amnt', 'funded_amnt_inv',\n",
       "       'installment', 'grade', 'sub_grade', 'emp_title', 'emp_length',\n",
       "       'home_ownership', 'annual_inc', 'verification_status', 'issue_d',\n",
       "       'loan_status', 'purpose', 'title', 'zip_code', 'addr_state', 'dti',\n",
       "       'pub_rec_bankruptcies', 'months', 'interest_percentage'],\n",
       "      dtype='object')"
      ]
     },
     "execution_count": 168,
     "metadata": {},
     "output_type": "execute_result"
    }
   ],
   "source": [
    "loan_df.columns"
   ]
  },
  {
   "cell_type": "code",
   "execution_count": 169,
   "id": "10597dd7",
   "metadata": {},
   "outputs": [
    {
     "data": {
      "text/plain": [
       "10+ years    8488\n",
       "< 1 year     4508\n",
       "2 years      4291\n",
       "3 years      4012\n",
       "4 years      3342\n",
       "5 years      3194\n",
       "1 year       3169\n",
       "6 years      2168\n",
       "7 years      1711\n",
       "8 years      1435\n",
       "9 years      1226\n",
       "Name: emp_length, dtype: int64"
      ]
     },
     "execution_count": 169,
     "metadata": {},
     "output_type": "execute_result"
    }
   ],
   "source": [
    "loan_df['emp_length'].value_counts()"
   ]
  },
  {
   "cell_type": "markdown",
   "id": "eb972c2b",
   "metadata": {},
   "source": [
    "## Univariate Analysis\n"
   ]
  },
  {
   "cell_type": "markdown",
   "id": "3319ff74",
   "metadata": {},
   "source": [
    "## This is the distribution for DTI Debt-To-Income Ratio"
   ]
  },
  {
   "cell_type": "code",
   "execution_count": 170,
   "id": "d31abf45",
   "metadata": {},
   "outputs": [
    {
     "data": {
      "image/png": "[encoded data removed]",
      "text/plain": [
       "<Figure size 432x288 with 1 Axes>"
      ]
     },
     "metadata": {
      "needs_background": "light"
     },
     "output_type": "display_data"
    }
   ],
   "source": [
    "sns.boxplot( y=loan_df[\"dti\"] )\n",
    "plt.ylabel('Debt-to-income-ratio')\n",
    "plt.show()\n"
   ]
  },
  {
   "cell_type": "code",
   "execution_count": 171,
   "id": "6f83233f",
   "metadata": {},
   "outputs": [
    {
     "data": {
      "text/plain": [
       "13.272727013505456"
      ]
     },
     "execution_count": 171,
     "metadata": {},
     "output_type": "execute_result"
    }
   ],
   "source": [
    "loan_df[\"dti\"].mean()"
   ]
  },
  {
   "cell_type": "markdown",
   "id": "284e89f3",
   "metadata": {},
   "source": [
    "### Inference -  The debt-to-income ratio varies from 0 to 30 having mean of 13%"
   ]
  },
  {
   "cell_type": "markdown",
   "id": "6a6d774a",
   "metadata": {},
   "source": [
    "## Loan amount"
   ]
  },
  {
   "cell_type": "code",
   "execution_count": 172,
   "id": "f38a062c",
   "metadata": {},
   "outputs": [
    {
     "data": {
      "image/png": "[encoded data removed]",
      "text/plain": [
       "<Figure size 432x288 with 1 Axes>"
      ]
     },
     "metadata": {
      "needs_background": "light"
     },
     "output_type": "display_data"
    }
   ],
   "source": [
    "sns.boxplot( y=loan_df[\"loan_amnt\"] )\n",
    "plt.ylabel('Loan Amount')\n",
    "plt.show()"
   ]
  },
  {
   "cell_type": "code",
   "execution_count": 173,
   "id": "8deca42d",
   "metadata": {},
   "outputs": [
    {
     "data": {
      "text/plain": [
       "11047.02542966016"
      ]
     },
     "execution_count": 173,
     "metadata": {},
     "output_type": "execute_result"
    }
   ],
   "source": [
    "loan_df[\"loan_amnt\"].mean()"
   ]
  },
  {
   "cell_type": "markdown",
   "id": "119a9913",
   "metadata": {},
   "source": [
    "### Inference - Loan amount varies from 0 to 35,000 and mean of 11,047 USD"
   ]
  },
  {
   "cell_type": "markdown",
   "id": "5bf6f542",
   "metadata": {},
   "source": [
    "## Number of months the loan is structured for"
   ]
  },
  {
   "cell_type": "code",
   "execution_count": 175,
   "id": "ba63ee60",
   "metadata": {},
   "outputs": [
    {
     "data": {
      "image/png": "[encoded data removed]",
      "text/plain": [
       "<Figure size 432x288 with 1 Axes>"
      ]
     },
     "metadata": {
      "needs_background": "light"
     },
     "output_type": "display_data"
    }
   ],
   "source": [
    "sns.countplot(x= loan_df[\"months\"])\n",
    "plt.show()"
   ]
  },
  {
   "cell_type": "markdown",
   "id": "efee121a",
   "metadata": {},
   "source": [
    "### Inference - Most people prefer to take loan for 36 months"
   ]
  },
  {
   "cell_type": "markdown",
   "id": "367f0352",
   "metadata": {},
   "source": [
    "## Status of the loan"
   ]
  },
  {
   "cell_type": "code",
   "execution_count": 177,
   "id": "49402c62",
   "metadata": {},
   "outputs": [
    {
     "data": {
      "image/png": "[encoded data removed]",
      "text/plain": [
       "<Figure size 432x288 with 1 Axes>"
      ]
     },
     "metadata": {
      "needs_background": "light"
     },
     "output_type": "display_data"
    }
   ],
   "source": [
    "sns.countplot(x= loan_df[\"loan_status\"])\n",
    "plt.show()"
   ]
  },
  {
   "cell_type": "markdown",
   "id": "46d71f47",
   "metadata": {},
   "source": [
    "### Inference - Most of the loans are Fully Paid and We have a class imbalance here.\n",
    "\n"
   ]
  },
  {
   "cell_type": "markdown",
   "id": "515cc37f",
   "metadata": {},
   "source": [
    "## Interest percentage of the loans"
   ]
  },
  {
   "cell_type": "code",
   "execution_count": 178,
   "id": "465b04a6",
   "metadata": {},
   "outputs": [
    {
     "data": {
      "image/png": "[encoded data removed]",
      "text/plain": [
       "<Figure size 432x288 with 1 Axes>"
      ]
     },
     "metadata": {
      "needs_background": "light"
     },
     "output_type": "display_data"
    }
   ],
   "source": [
    "loan_df[\"interest_percentage\"] = pd.to_numeric(loan_df[\"interest_percentage\"])\n",
    "\n",
    "sns.boxplot( y=loan_df[\"interest_percentage\"] )\n",
    "plt.ylabel('Interest percentage')\n",
    "plt.show()"
   ]
  },
  {
   "cell_type": "markdown",
   "id": "381ebd74",
   "metadata": {},
   "source": [
    "### Inference - Most of the  loans of around 11% and they range between 6% and 23% "
   ]
  },
  {
   "cell_type": "markdown",
   "id": "29b4ef2c",
   "metadata": {},
   "source": [
    "## Grade of loans"
   ]
  },
  {
   "cell_type": "code",
   "execution_count": 179,
   "id": "509148d4",
   "metadata": {},
   "outputs": [
    {
     "data": {
      "image/png": "[encoded data removed]",
      "text/plain": [
       "<Figure size 432x288 with 1 Axes>"
      ]
     },
     "metadata": {
      "needs_background": "light"
     },
     "output_type": "display_data"
    }
   ],
   "source": [
    "sns.countplot(x= loan_df['grade'])\n",
    "plt.show()"
   ]
  },
  {
   "cell_type": "markdown",
   "id": "2632d419",
   "metadata": {},
   "source": [
    "### Inference - Most loans are of A, B and C grade"
   ]
  },
  {
   "cell_type": "markdown",
   "id": "aa96f8c0",
   "metadata": {},
   "source": [
    "## Subgrades of loan"
   ]
  },
  {
   "cell_type": "code",
   "execution_count": 180,
   "id": "f4168a0f",
   "metadata": {},
   "outputs": [
    {
     "data": {
      "image/png": "[encoded data removed]",
      "text/plain": [
       "<Figure size 960x720 with 1 Axes>"
      ]
     },
     "metadata": {
      "needs_background": "light"
     },
     "output_type": "display_data"
    }
   ],
   "source": [
    "from matplotlib.pyplot import figure\n",
    "\n",
    "figure(figsize=(12, 9), dpi=80)\n",
    "sns.countplot(x= loan_df['sub_grade'])\n",
    "plt.show()\n"
   ]
  },
  {
   "cell_type": "markdown",
   "id": "e356bc31",
   "metadata": {},
   "source": [
    "### Inference: Most loans are of grade of A and B and then it belongs to C & D. So most loans are high graded loans\n",
    "\n"
   ]
  },
  {
   "cell_type": "markdown",
   "id": "34a9847e",
   "metadata": {},
   "source": [
    "# Income of customers taking loans"
   ]
  },
  {
   "cell_type": "code",
   "execution_count": 181,
   "id": "0d6a8611",
   "metadata": {},
   "outputs": [
    {
     "data": {
      "text/plain": [
       "(38577, 23)"
      ]
     },
     "execution_count": 181,
     "metadata": {},
     "output_type": "execute_result"
    }
   ],
   "source": [
    "loan_df.shape"
   ]
  },
  {
   "cell_type": "code",
   "execution_count": 182,
   "id": "7cd1b415",
   "metadata": {},
   "outputs": [
    {
     "data": {
      "text/plain": [
       "1.4775643518158488"
      ]
     },
     "execution_count": 182,
     "metadata": {},
     "output_type": "execute_result"
    }
   ],
   "source": [
    "(sum(loan_df['annual_inc'] > 200000)/len(loan_df))*100"
   ]
  },
  {
   "cell_type": "markdown",
   "id": "df895eba",
   "metadata": {},
   "source": [
    "### Only 1.4% of the people have income more than 200,000 USD"
   ]
  },
  {
   "cell_type": "markdown",
   "id": "ad690132",
   "metadata": {},
   "source": [
    "### I think it is good idea to remove people which are having income of more than 200,000 USD since they are few and can be considered outliers"
   ]
  },
  {
   "cell_type": "code",
   "execution_count": 183,
   "id": "640dfd36",
   "metadata": {},
   "outputs": [],
   "source": [
    "loan_df = loan_df[loan_df['annual_inc'] < 200000]"
   ]
  },
  {
   "cell_type": "code",
   "execution_count": 184,
   "id": "3c42bfda",
   "metadata": {},
   "outputs": [
    {
     "data": {
      "text/plain": [
       "(37888, 23)"
      ]
     },
     "execution_count": 184,
     "metadata": {},
     "output_type": "execute_result"
    }
   ],
   "source": [
    "loan_df.shape"
   ]
  },
  {
   "cell_type": "code",
   "execution_count": 185,
   "id": "a73c02d6",
   "metadata": {},
   "outputs": [
    {
     "data": {
      "image/png": "[encoded data removed]",
      "text/plain": [
       "<Figure size 432x288 with 1 Axes>"
      ]
     },
     "metadata": {
      "needs_background": "light"
     },
     "output_type": "display_data"
    }
   ],
   "source": [
    "sns.boxplot(x=loan_df[\"annual_inc\"])\n",
    "plt.xlabel('Annual Income in USD')\n",
    "plt.show()"
   ]
  },
  {
   "cell_type": "code",
   "execution_count": 186,
   "id": "1e1fea2e",
   "metadata": {},
   "outputs": [
    {
     "data": {
      "text/plain": [
       "(64157.788295238606, 57855.0)"
      ]
     },
     "execution_count": 186,
     "metadata": {},
     "output_type": "execute_result"
    }
   ],
   "source": [
    "loan_df[\"annual_inc\"].mean(), loan_df[\"annual_inc\"].median()"
   ]
  },
  {
   "cell_type": "markdown",
   "id": "a15dee36",
   "metadata": {},
   "source": [
    "### Inference - The mean income is around 64k and the median is 57K, after removing outliers"
   ]
  },
  {
   "cell_type": "markdown",
   "id": "adf862a8",
   "metadata": {},
   "source": [
    "## Pupose of loan"
   ]
  },
  {
   "cell_type": "code",
   "execution_count": 187,
   "id": "6a36b662",
   "metadata": {},
   "outputs": [
    {
     "data": {
      "image/png": "[encoded data removed]",
      "text/plain": [
       "<Figure size 960x720 with 1 Axes>"
      ]
     },
     "metadata": {
      "needs_background": "light"
     },
     "output_type": "display_data"
    }
   ],
   "source": [
    "figure(figsize=(12, 9), dpi=80)\n",
    "sns.countplot(x= loan_df['purpose'])\n",
    "plt.xticks(rotation=90)\n",
    "plt.show()\n"
   ]
  },
  {
   "cell_type": "markdown",
   "id": "348b918c",
   "metadata": {},
   "source": [
    "### Inference - Most of the loans are debt_consolidation"
   ]
  },
  {
   "cell_type": "markdown",
   "id": "26bcc463",
   "metadata": {},
   "source": [
    "## Employment duration of the person taking loan"
   ]
  },
  {
   "cell_type": "code",
   "execution_count": 188,
   "id": "f058106a",
   "metadata": {},
   "outputs": [
    {
     "data": {
      "image/png": "[encoded data removed]",
      "text/plain": [
       "<Figure size 960x720 with 1 Axes>"
      ]
     },
     "metadata": {
      "needs_background": "light"
     },
     "output_type": "display_data"
    }
   ],
   "source": [
    "figure(figsize=(12, 9), dpi=80)\n",
    "sns.countplot(x= loan_df['emp_length'])\n",
    "plt.xticks(rotation=90)\n",
    "plt.show()"
   ]
  },
  {
   "cell_type": "markdown",
   "id": "7aa4e889",
   "metadata": {},
   "source": [
    "### Inference - Many of the loans are taken by people with more than 10 years of experience"
   ]
  },
  {
   "cell_type": "markdown",
   "id": "0a8ec09a",
   "metadata": {},
   "source": [
    "## Home ownership of customes with loans"
   ]
  },
  {
   "cell_type": "code",
   "execution_count": 189,
   "id": "3846f138",
   "metadata": {},
   "outputs": [
    {
     "data": {
      "image/png": "[encoded data removed]",
      "text/plain": [
       "<Figure size 640x480 with 1 Axes>"
      ]
     },
     "metadata": {
      "needs_background": "light"
     },
     "output_type": "display_data"
    }
   ],
   "source": [
    "figure(figsize=(8, 6), dpi=80)\n",
    "sns.countplot(x= loan_df['home_ownership'])\n",
    "plt.show()"
   ]
  },
  {
   "cell_type": "markdown",
   "id": "12704bb5",
   "metadata": {},
   "source": [
    "### Inference - Most people with loans live in rented or mortgaged house"
   ]
  },
  {
   "cell_type": "markdown",
   "id": "0ecfc282",
   "metadata": {},
   "source": [
    "## Verification status of customers with loans"
   ]
  },
  {
   "cell_type": "code",
   "execution_count": 191,
   "id": "0f550509",
   "metadata": {},
   "outputs": [
    {
     "data": {
      "image/png": "[encoded data removed]",
      "text/plain": [
       "<Figure size 640x480 with 1 Axes>"
      ]
     },
     "metadata": {
      "needs_background": "light"
     },
     "output_type": "display_data"
    }
   ],
   "source": [
    "figure(figsize=(8, 6), dpi=80)\n",
    "sns.countplot(x= loan_df['verification_status'])\n",
    "plt.show()\n"
   ]
  },
  {
   "cell_type": "markdown",
   "id": "4672f49e",
   "metadata": {},
   "source": [
    "### Inference - Many people whose status was not verified were given loans"
   ]
  },
  {
   "cell_type": "markdown",
   "id": "28ee54e3",
   "metadata": {},
   "source": [
    "## Purpose of loan"
   ]
  },
  {
   "cell_type": "code",
   "execution_count": 208,
   "id": "8c82ff91",
   "metadata": {},
   "outputs": [
    {
     "data": {
      "image/png": "[encoded data removed]",
      "text/plain": [
       "<Figure size 1008x576 with 1 Axes>"
      ]
     },
     "metadata": {
      "needs_background": "light"
     },
     "output_type": "display_data"
    }
   ],
   "source": [
    "plt.figure(figsize=(14,8))\n",
    "ax = sns.countplot(x=\"purpose\",data=loan_df,hue='loan_status')\n",
    "ax.set_title('Purpose Of Loan',fontsize=14)\n",
    "ax.set_xlabel('Purpose Of Loan',fontsize=14)\n",
    "ax.set_ylabel('Loan Application Count',fontsize=14)   \n",
    "plt.xticks(rotation=90)\n",
    "plt.show()"
   ]
  },
  {
   "cell_type": "markdown",
   "id": "d9dc3360",
   "metadata": {},
   "source": [
    "### Inference - Many loan are taken for debt consolidation and lot of them are becoming bad loans"
   ]
  },
  {
   "cell_type": "markdown",
   "id": "010ebe3c",
   "metadata": {},
   "source": [
    "## Home ownership of customers with loan"
   ]
  },
  {
   "cell_type": "code",
   "execution_count": 209,
   "id": "fd4d64e5",
   "metadata": {},
   "outputs": [
    {
     "data": {
      "image/png": "[encoded data removed]",
      "text/plain": [
       "<Figure size 720x432 with 1 Axes>"
      ]
     },
     "metadata": {
      "needs_background": "light"
     },
     "output_type": "display_data"
    }
   ],
   "source": [
    "plt.figure(figsize=(10,6))\n",
    "\n",
    "ax = sns.countplot(x=\"home_ownership\",data=loan_df, hue='loan_status')\n",
    "ax.set_title('Home Ownership')\n",
    "ax.set_xlabel('Home Ownership')\n",
    "\n",
    "plt.show()\n"
   ]
  },
  {
   "cell_type": "markdown",
   "id": "688429a8",
   "metadata": {},
   "source": [
    "### Inference - Most people who took loan are in rented home or mortgaged home"
   ]
  },
  {
   "cell_type": "markdown",
   "id": "aa06488b",
   "metadata": {},
   "source": [
    "# Bivariate anlysis"
   ]
  },
  {
   "cell_type": "markdown",
   "id": "d5b29a38",
   "metadata": {},
   "source": [
    "## Creating derived columns which can be used in this analysis"
   ]
  },
  {
   "cell_type": "code",
   "execution_count": 210,
   "id": "c29a8ed9",
   "metadata": {},
   "outputs": [],
   "source": [
    "# dti into bins\n",
    "loan_df['dti_cat'] = pd.cut(loan_df['dti'], [0, 8, 14, 19,30 ], labels=['0-8', '8-14', '14-19', '19+'])\n",
    "\n",
    "# Intrest rates in bins\n",
    "loan_df['int_rate_cat'] = pd.cut(loan_df['interest_percentage'], [0, 8, 11, 14, 25], labels=['0-8', '8-11', '11-14', '14 +'])\n",
    "\n",
    "# loan amounts in bins \n",
    "loan_df['loan_amnt_cat'] = pd.cut(loan_df['loan_amnt'], [0, 10000, 20000, 30000,40000 ], labels=['0-10000', '10000-20000', '20000-30000', '30000 +'])\n",
    "\n",
    "# Annual incomes into bins\n",
    "loan_df['annual_inc_cat'] = pd.cut(loan_df['annual_inc'], [0, 20000, 40000, 60000, 80000,200000], labels=['0-20000', '20000-40000', '40000-60000', '60000-80000', '80000 +'])\n"
   ]
  },
  {
   "cell_type": "markdown",
   "id": "83d4ca5c",
   "metadata": {},
   "source": [
    "## Grades vs Charged off ratio"
   ]
  },
  {
   "cell_type": "code",
   "execution_count": 211,
   "id": "afc35c38",
   "metadata": {},
   "outputs": [],
   "source": [
    "loan_grp = loan_df.groupby(['grade', 'loan_status']).loan_status.count().unstack().fillna(0).reset_index()\n",
    "loan_grp['Total'] = loan_grp['Charged Off'] +  loan_grp['Fully Paid'] \n",
    "loan_grp['Charged_off_Proportion'] = loan_grp['Charged Off'] / loan_grp['Total']"
   ]
  },
  {
   "cell_type": "markdown",
   "id": "ac91800c",
   "metadata": {},
   "source": [
    "## We are making charged off proportion as the key indicator as that explains the proportion of defaults, which is most important for us"
   ]
  },
  {
   "cell_type": "code",
   "execution_count": 212,
   "id": "f5af7903",
   "metadata": {},
   "outputs": [
    {
     "data": {
      "text/html": [
       "<div>\n",
       "<style scoped>\n",
       "    .dataframe tbody tr th:only-of-type {\n",
       "        vertical-align: middle;\n",
       "    }\n",
       "\n",
       "    .dataframe tbody tr th {\n",
       "        vertical-align: top;\n",
       "    }\n",
       "\n",
       "    .dataframe thead th {\n",
       "        text-align: right;\n",
       "    }\n",
       "</style>\n",
       "<table border=\"1\" class=\"dataframe\">\n",
       "  <thead>\n",
       "    <tr style=\"text-align: right;\">\n",
       "      <th>loan_status</th>\n",
       "      <th>grade</th>\n",
       "      <th>Charged Off</th>\n",
       "      <th>Fully Paid</th>\n",
       "      <th>Total</th>\n",
       "      <th>Charged_off_Proportion</th>\n",
       "    </tr>\n",
       "  </thead>\n",
       "  <tbody>\n",
       "    <tr>\n",
       "      <th>0</th>\n",
       "      <td>A</td>\n",
       "      <td>600</td>\n",
       "      <td>9326</td>\n",
       "      <td>9926</td>\n",
       "      <td>0.060447</td>\n",
       "    </tr>\n",
       "    <tr>\n",
       "      <th>1</th>\n",
       "      <td>B</td>\n",
       "      <td>1407</td>\n",
       "      <td>10069</td>\n",
       "      <td>11476</td>\n",
       "      <td>0.122604</td>\n",
       "    </tr>\n",
       "    <tr>\n",
       "      <th>2</th>\n",
       "      <td>C</td>\n",
       "      <td>1338</td>\n",
       "      <td>6356</td>\n",
       "      <td>7694</td>\n",
       "      <td>0.173902</td>\n",
       "    </tr>\n",
       "    <tr>\n",
       "      <th>3</th>\n",
       "      <td>D</td>\n",
       "      <td>1106</td>\n",
       "      <td>3879</td>\n",
       "      <td>4985</td>\n",
       "      <td>0.221866</td>\n",
       "    </tr>\n",
       "    <tr>\n",
       "      <th>4</th>\n",
       "      <td>E</td>\n",
       "      <td>699</td>\n",
       "      <td>1885</td>\n",
       "      <td>2584</td>\n",
       "      <td>0.270511</td>\n",
       "    </tr>\n",
       "    <tr>\n",
       "      <th>5</th>\n",
       "      <td>F</td>\n",
       "      <td>309</td>\n",
       "      <td>629</td>\n",
       "      <td>938</td>\n",
       "      <td>0.329424</td>\n",
       "    </tr>\n",
       "    <tr>\n",
       "      <th>6</th>\n",
       "      <td>G</td>\n",
       "      <td>97</td>\n",
       "      <td>188</td>\n",
       "      <td>285</td>\n",
       "      <td>0.340351</td>\n",
       "    </tr>\n",
       "  </tbody>\n",
       "</table>\n",
       "</div>"
      ],
      "text/plain": [
       "loan_status grade  Charged Off  Fully Paid  Total  Charged_off_Proportion\n",
       "0               A          600        9326   9926                0.060447\n",
       "1               B         1407       10069  11476                0.122604\n",
       "2               C         1338        6356   7694                0.173902\n",
       "3               D         1106        3879   4985                0.221866\n",
       "4               E          699        1885   2584                0.270511\n",
       "5               F          309         629    938                0.329424\n",
       "6               G           97         188    285                0.340351"
      ]
     },
     "execution_count": 212,
     "metadata": {},
     "output_type": "execute_result"
    }
   ],
   "source": [
    "loan_grp"
   ]
  },
  {
   "cell_type": "code",
   "execution_count": 213,
   "id": "a313011b",
   "metadata": {},
   "outputs": [
    {
     "data": {
      "image/png": "[encoded data removed]",
      "text/plain": [
       "<Figure size 864x576 with 1 Axes>"
      ]
     },
     "metadata": {
      "needs_background": "light"
     },
     "output_type": "display_data"
    }
   ],
   "source": [
    "fig, ax1 = plt.subplots(figsize=(12, 8))\n",
    "\n",
    "ax1=sns.barplot(x='grade', y='Charged_off_Proportion', data=loan_grp)\n",
    "ax1.set_xlabel('Grades')\n",
    "ax1.set_ylabel('Charged_off Proportion')\n",
    "plt.show()"
   ]
  },
  {
   "cell_type": "markdown",
   "id": "2d9ddce3",
   "metadata": {},
   "source": [
    "### Inference - As we can see Grade A has the least defaults"
   ]
  },
  {
   "cell_type": "markdown",
   "id": "1eff7238",
   "metadata": {},
   "source": [
    "## Annual Income vs Chargedoff Proportion"
   ]
  },
  {
   "cell_type": "code",
   "execution_count": 214,
   "id": "621d7e68",
   "metadata": {},
   "outputs": [
    {
     "data": {
      "text/html": [
       "<div>\n",
       "<style scoped>\n",
       "    .dataframe tbody tr th:only-of-type {\n",
       "        vertical-align: middle;\n",
       "    }\n",
       "\n",
       "    .dataframe tbody tr th {\n",
       "        vertical-align: top;\n",
       "    }\n",
       "\n",
       "    .dataframe thead th {\n",
       "        text-align: right;\n",
       "    }\n",
       "</style>\n",
       "<table border=\"1\" class=\"dataframe\">\n",
       "  <thead>\n",
       "    <tr style=\"text-align: right;\">\n",
       "      <th>loan_status</th>\n",
       "      <th>annual_inc_cat</th>\n",
       "      <th>Charged Off</th>\n",
       "      <th>Fully Paid</th>\n",
       "    </tr>\n",
       "  </thead>\n",
       "  <tbody>\n",
       "    <tr>\n",
       "      <th>0</th>\n",
       "      <td>0-20000</td>\n",
       "      <td>237</td>\n",
       "      <td>943</td>\n",
       "    </tr>\n",
       "    <tr>\n",
       "      <th>1</th>\n",
       "      <td>20000-40000</td>\n",
       "      <td>1514</td>\n",
       "      <td>7004</td>\n",
       "    </tr>\n",
       "    <tr>\n",
       "      <th>2</th>\n",
       "      <td>40000-60000</td>\n",
       "      <td>1729</td>\n",
       "      <td>9534</td>\n",
       "    </tr>\n",
       "    <tr>\n",
       "      <th>3</th>\n",
       "      <td>60000-80000</td>\n",
       "      <td>1024</td>\n",
       "      <td>6597</td>\n",
       "    </tr>\n",
       "    <tr>\n",
       "      <th>4</th>\n",
       "      <td>80000 +</td>\n",
       "      <td>1052</td>\n",
       "      <td>8254</td>\n",
       "    </tr>\n",
       "  </tbody>\n",
       "</table>\n",
       "</div>"
      ],
      "text/plain": [
       "loan_status annual_inc_cat  Charged Off  Fully Paid\n",
       "0                  0-20000          237         943\n",
       "1              20000-40000         1514        7004\n",
       "2              40000-60000         1729        9534\n",
       "3              60000-80000         1024        6597\n",
       "4                  80000 +         1052        8254"
      ]
     },
     "execution_count": 214,
     "metadata": {},
     "output_type": "execute_result"
    }
   ],
   "source": [
    "income_grp_loan = loan_df.groupby(['annual_inc_cat', 'loan_status']).loan_status.count().unstack().fillna(0).reset_index()\n",
    "income_grp_loan"
   ]
  },
  {
   "cell_type": "code",
   "execution_count": 215,
   "id": "186f6dec",
   "metadata": {},
   "outputs": [],
   "source": [
    "income_grp_loan['Total'] = income_grp_loan['Charged Off']  + income_grp_loan['Fully Paid'] \n",
    "income_grp_loan['Charged_off_Proportion'] = income_grp_loan['Charged Off'] / income_grp_loan['Total']\n"
   ]
  },
  {
   "cell_type": "code",
   "execution_count": 216,
   "id": "7ae0f827",
   "metadata": {},
   "outputs": [
    {
     "data": {
      "image/png": "[encoded data removed]",
      "text/plain": [
       "<Figure size 432x288 with 1 Axes>"
      ]
     },
     "metadata": {
      "needs_background": "light"
     },
     "output_type": "display_data"
    }
   ],
   "source": [
    "ax1=sns.barplot(x='annual_inc_cat', y='Charged_off_Proportion', data=income_grp_loan)\n",
    "ax1.set_ylabel('Charged_off Proportion')\n",
    "ax1.set_xlabel('Annual Income')\n",
    "plt.xticks(rotation=90)\n",
    "\n",
    "plt.show()"
   ]
  },
  {
   "cell_type": "markdown",
   "id": "c3cab0ab",
   "metadata": {},
   "source": [
    "### Inference -  We can see that as income goes higher the percentage of charged off loan decreases"
   ]
  },
  {
   "cell_type": "markdown",
   "id": "1ab0b403",
   "metadata": {},
   "source": [
    "## Purpose of loan vs charged off proportion"
   ]
  },
  {
   "cell_type": "code",
   "execution_count": 113,
   "id": "6179ef4d",
   "metadata": {},
   "outputs": [],
   "source": [
    "purpose_and_default = loan_df.groupby(['purpose', 'loan_status']).loan_status.count().unstack().fillna(0).reset_index()\n",
    "purpose_and_default['Total'] = purpose_and_default['Charged Off'] + purpose_and_default['Fully Paid'] \n",
    "purpose_and_default['Charged_off_Proportion'] = purpose_and_default['Charged Off'] / purpose_and_default['Total']\n",
    "\n"
   ]
  },
  {
   "cell_type": "code",
   "execution_count": 114,
   "id": "91424ca8",
   "metadata": {},
   "outputs": [
    {
     "data": {
      "image/png": "[encoded data removed]",
      "text/plain": [
       "<Figure size 864x576 with 1 Axes>"
      ]
     },
     "metadata": {
      "needs_background": "light"
     },
     "output_type": "display_data"
    }
   ],
   "source": [
    "fig, ax1 = plt.subplots(figsize=(12, 8))\n",
    "ax1=sns.barplot(x='purpose', y='Charged_off_Proportion', data=purpose_and_default)\n",
    "ax1.set_xlabel('Purpose of Loans')\n",
    "ax1.set_ylabel('Chargedoff Proportion')\n",
    "plt.xticks(rotation=90)\n",
    "\n",
    "plt.show()"
   ]
  },
  {
   "cell_type": "markdown",
   "id": "c31a521c",
   "metadata": {},
   "source": [
    "### Inference - \n",
    "### Small business have the highest rate of default \n",
    "### Car, credit card and Wedding loans have the lowest rate of default"
   ]
  },
  {
   "cell_type": "markdown",
   "id": "5a302b09",
   "metadata": {},
   "source": [
    "## Debt to income vs Charged off proportion"
   ]
  },
  {
   "cell_type": "code",
   "execution_count": 217,
   "id": "8c10e4bd",
   "metadata": {},
   "outputs": [],
   "source": [
    "dti_and_default = loan_df.groupby(['dti_cat', 'loan_status']).loan_status.count().unstack().fillna(0).reset_index()\n",
    "dti_and_default['Total'] = dti_and_default['Charged Off'] + dti_and_default['Fully Paid'] \n",
    "dti_and_default['Charged_off_Proportion'] = dti_and_default['Charged Off'] / dti_and_default['Total']\n"
   ]
  },
  {
   "cell_type": "code",
   "execution_count": 219,
   "id": "a9da01d8",
   "metadata": {},
   "outputs": [
    {
     "data": {
      "image/png": "[encoded data removed]",
      "text/plain": [
       "<Figure size 864x576 with 1 Axes>"
      ]
     },
     "metadata": {
      "needs_background": "light"
     },
     "output_type": "display_data"
    }
   ],
   "source": [
    "fig, ax1 = plt.subplots(figsize=(12, 8))\n",
    "ax1=sns.barplot(x='dti_cat', y='Charged_off_Proportion', data=dti_and_default)\n",
    "ax1.set_xlabel('debt - to - income ratio %')\n",
    "ax1.set_ylabel('Charged_off Proportion')\n",
    "plt.xticks(rotation=90)\n",
    "\n",
    "plt.show()"
   ]
  },
  {
   "cell_type": "markdown",
   "id": "630598b1",
   "metadata": {},
   "source": [
    "### Inference - DTI of over 19 has the highest rate of default and as people are more in debt as compared to the income, the chances of default increases"
   ]
  },
  {
   "cell_type": "markdown",
   "id": "8760fba6",
   "metadata": {},
   "source": [
    "## Grade vs Charged off proportion for small business"
   ]
  },
  {
   "cell_type": "code",
   "execution_count": 220,
   "id": "30832a1c",
   "metadata": {},
   "outputs": [],
   "source": [
    "loan_df_small = loan_df[loan_df['purpose'] == 'small_business']"
   ]
  },
  {
   "cell_type": "code",
   "execution_count": 221,
   "id": "da4398e0",
   "metadata": {},
   "outputs": [
    {
     "data": {
      "text/plain": [
       "(1702, 27)"
      ]
     },
     "execution_count": 221,
     "metadata": {},
     "output_type": "execute_result"
    }
   ],
   "source": [
    "loan_df_small.shape"
   ]
  },
  {
   "cell_type": "code",
   "execution_count": 222,
   "id": "8e2a7683",
   "metadata": {},
   "outputs": [],
   "source": [
    "small_and_grp = loan_df_small.groupby(['grade', 'loan_status']).loan_status.count().unstack().fillna(0).reset_index()\n",
    "small_and_grp['Total'] = small_and_grp['Charged Off'] + small_and_grp['Fully Paid'] \n",
    "small_and_grp['Charged_off_Proportion'] = small_and_grp['Charged Off'] / small_and_grp['Total']\n"
   ]
  },
  {
   "cell_type": "code",
   "execution_count": 223,
   "id": "1b585aa7",
   "metadata": {},
   "outputs": [
    {
     "data": {
      "text/html": [
       "<div>\n",
       "<style scoped>\n",
       "    .dataframe tbody tr th:only-of-type {\n",
       "        vertical-align: middle;\n",
       "    }\n",
       "\n",
       "    .dataframe tbody tr th {\n",
       "        vertical-align: top;\n",
       "    }\n",
       "\n",
       "    .dataframe thead th {\n",
       "        text-align: right;\n",
       "    }\n",
       "</style>\n",
       "<table border=\"1\" class=\"dataframe\">\n",
       "  <thead>\n",
       "    <tr style=\"text-align: right;\">\n",
       "      <th>loan_status</th>\n",
       "      <th>grade</th>\n",
       "      <th>Charged Off</th>\n",
       "      <th>Fully Paid</th>\n",
       "      <th>Total</th>\n",
       "      <th>Charged_off_Proportion</th>\n",
       "    </tr>\n",
       "  </thead>\n",
       "  <tbody>\n",
       "    <tr>\n",
       "      <th>0</th>\n",
       "      <td>A</td>\n",
       "      <td>40</td>\n",
       "      <td>301</td>\n",
       "      <td>341</td>\n",
       "      <td>0.117302</td>\n",
       "    </tr>\n",
       "    <tr>\n",
       "      <th>1</th>\n",
       "      <td>B</td>\n",
       "      <td>120</td>\n",
       "      <td>322</td>\n",
       "      <td>442</td>\n",
       "      <td>0.271493</td>\n",
       "    </tr>\n",
       "    <tr>\n",
       "      <th>2</th>\n",
       "      <td>C</td>\n",
       "      <td>95</td>\n",
       "      <td>232</td>\n",
       "      <td>327</td>\n",
       "      <td>0.290520</td>\n",
       "    </tr>\n",
       "    <tr>\n",
       "      <th>3</th>\n",
       "      <td>D</td>\n",
       "      <td>93</td>\n",
       "      <td>187</td>\n",
       "      <td>280</td>\n",
       "      <td>0.332143</td>\n",
       "    </tr>\n",
       "    <tr>\n",
       "      <th>4</th>\n",
       "      <td>E</td>\n",
       "      <td>65</td>\n",
       "      <td>114</td>\n",
       "      <td>179</td>\n",
       "      <td>0.363128</td>\n",
       "    </tr>\n",
       "    <tr>\n",
       "      <th>5</th>\n",
       "      <td>F</td>\n",
       "      <td>35</td>\n",
       "      <td>51</td>\n",
       "      <td>86</td>\n",
       "      <td>0.406977</td>\n",
       "    </tr>\n",
       "    <tr>\n",
       "      <th>6</th>\n",
       "      <td>G</td>\n",
       "      <td>21</td>\n",
       "      <td>26</td>\n",
       "      <td>47</td>\n",
       "      <td>0.446809</td>\n",
       "    </tr>\n",
       "  </tbody>\n",
       "</table>\n",
       "</div>"
      ],
      "text/plain": [
       "loan_status grade  Charged Off  Fully Paid  Total  Charged_off_Proportion\n",
       "0               A           40         301    341                0.117302\n",
       "1               B          120         322    442                0.271493\n",
       "2               C           95         232    327                0.290520\n",
       "3               D           93         187    280                0.332143\n",
       "4               E           65         114    179                0.363128\n",
       "5               F           35          51     86                0.406977\n",
       "6               G           21          26     47                0.446809"
      ]
     },
     "execution_count": 223,
     "metadata": {},
     "output_type": "execute_result"
    }
   ],
   "source": [
    "small_and_grp"
   ]
  },
  {
   "cell_type": "code",
   "execution_count": 224,
   "id": "460e3ae3",
   "metadata": {},
   "outputs": [
    {
     "data": {
      "image/png": "[encoded data removed]",
      "text/plain": [
       "<Figure size 864x576 with 1 Axes>"
      ]
     },
     "metadata": {
      "needs_background": "light"
     },
     "output_type": "display_data"
    }
   ],
   "source": [
    "fig, ax1 = plt.subplots(figsize=(12, 8))\n",
    "ax1=sns.barplot(x='grade', y='Charged_off_Proportion', data=small_and_grp)\n",
    "ax1.set_xlabel('grade')\n",
    "ax1.set_ylabel('Charged_off Proportion for small business owners')\n",
    "plt.xticks(rotation=90)\n",
    "\n",
    "plt.show()"
   ]
  },
  {
   "cell_type": "markdown",
   "id": "d263d168",
   "metadata": {},
   "source": [
    "### Since small business owners had the maximum default rate, so looking down futher into that data.We can see that grade D, E, F and G have 30%- 45% default rate\n",
    "### Inference - Small business owners with D,E,F,G have the highest default rate"
   ]
  },
  {
   "cell_type": "code",
   "execution_count": null,
   "id": "cbeded43",
   "metadata": {},
   "outputs": [],
   "source": []
  }
 ],
 "metadata": {
  "kernelspec": {
   "display_name": "Python 3 (ipykernel)",
   "language": "python",
   "name": "python3"
  },
  "language_info": {
   "codemirror_mode": {
    "name": "ipython",
    "version": 3
   },
   "file_extension": ".py",
   "mimetype": "text/x-python",
   "name": "python",
   "nbconvert_exporter": "python",
   "pygments_lexer": "ipython3",
   "version": "3.7.13"
  }
 },
 "nbformat": 4,
 "nbformat_minor": 5
}
